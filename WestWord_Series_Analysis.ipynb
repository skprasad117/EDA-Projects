{
 "cells": [
  {
   "cell_type": "markdown",
   "id": "44ec0054",
   "metadata": {},
   "source": [
    "## Question 8 -\n",
    "Using the data from Question 5, write code the analyze the data and answer the following questions Note -\n",
    "1. Draw plots to demonstrate the analysis for the following questions and better visualizations\n",
    "2. Write code comments wherever required for code understanding\n",
    "\n",
    "Insights to be drawn -\n",
    "- Get all the overall ratings for each season and using plots compare the ratings for all the\n",
    "seasons, like season 1 ratings, season 2, and so on.\n",
    "- Get all the episode names, whose average rating is more than 8 for every season\n",
    "- Get all the episode names that aired before May 2019\n",
    "- Get the episode name from each season with the highest and lowest rating\n",
    "- Get the summary for the most popular ( ratings ) episode in every season"
   ]
  },
  {
   "cell_type": "code",
   "execution_count": 1,
   "id": "9621429f",
   "metadata": {},
   "outputs": [],
   "source": [
    "import pandas as pd\n",
    "import numpy as np\n",
    "import matplotlib.pyplot as plt\n",
    "import seaborn as sns"
   ]
  },
  {
   "cell_type": "code",
   "execution_count": 9,
   "id": "1895d5f8",
   "metadata": {},
   "outputs": [],
   "source": [
    "df  = pd.read_csv(\"Dataset/westworld.csv\")"
   ]
  },
  {
   "cell_type": "code",
   "execution_count": 12,
   "id": "d2c9ef27",
   "metadata": {},
   "outputs": [
    {
     "data": {
      "text/html": [
       "<div>\n",
       "<style scoped>\n",
       "    .dataframe tbody tr th:only-of-type {\n",
       "        vertical-align: middle;\n",
       "    }\n",
       "\n",
       "    .dataframe tbody tr th {\n",
       "        vertical-align: top;\n",
       "    }\n",
       "\n",
       "    .dataframe thead th {\n",
       "        text-align: right;\n",
       "    }\n",
       "</style>\n",
       "<table border=\"1\" class=\"dataframe\">\n",
       "  <thead>\n",
       "    <tr style=\"text-align: right;\">\n",
       "      <th></th>\n",
       "      <th>id</th>\n",
       "      <th>url</th>\n",
       "      <th>name</th>\n",
       "      <th>season</th>\n",
       "      <th>number</th>\n",
       "      <th>_links_self_href</th>\n",
       "      <th>_links_show_href</th>\n",
       "      <th>airdate</th>\n",
       "      <th>airstamp</th>\n",
       "      <th>airtime</th>\n",
       "      <th>image_medium</th>\n",
       "      <th>image_original</th>\n",
       "      <th>rating_average</th>\n",
       "      <th>runtime</th>\n",
       "      <th>summary</th>\n",
       "      <th>type</th>\n",
       "    </tr>\n",
       "  </thead>\n",
       "  <tbody>\n",
       "    <tr>\n",
       "      <th>0</th>\n",
       "      <td>869671</td>\n",
       "      <td>https://www.tvmaze.com/episodes/869671/westwor...</td>\n",
       "      <td>The Original</td>\n",
       "      <td>1</td>\n",
       "      <td>1</td>\n",
       "      <td>https://api.tvmaze.com/episodes/869671</td>\n",
       "      <td>https://api.tvmaze.com/shows/1371</td>\n",
       "      <td>2016-10-02</td>\n",
       "      <td>2016-10-03 01:00:00+00:00</td>\n",
       "      <td>09:00:00 PM</td>\n",
       "      <td>https://static.tvmaze.com/uploads/images/mediu...</td>\n",
       "      <td>https://static.tvmaze.com/uploads/images/origi...</td>\n",
       "      <td>8.0</td>\n",
       "      <td>68</td>\n",
       "      <td>A woman named Dolores is a free spirit in the ...</td>\n",
       "      <td>regular</td>\n",
       "    </tr>\n",
       "    <tr>\n",
       "      <th>1</th>\n",
       "      <td>911201</td>\n",
       "      <td>https://www.tvmaze.com/episodes/911201/westwor...</td>\n",
       "      <td>Chestnut</td>\n",
       "      <td>1</td>\n",
       "      <td>2</td>\n",
       "      <td>https://api.tvmaze.com/episodes/911201</td>\n",
       "      <td>https://api.tvmaze.com/shows/1371</td>\n",
       "      <td>2016-10-09</td>\n",
       "      <td>2016-10-10 01:00:00+00:00</td>\n",
       "      <td>09:00:00 PM</td>\n",
       "      <td>https://static.tvmaze.com/uploads/images/mediu...</td>\n",
       "      <td>https://static.tvmaze.com/uploads/images/origi...</td>\n",
       "      <td>7.7</td>\n",
       "      <td>60</td>\n",
       "      <td>Bernard suspects that someone is sabotaging th...</td>\n",
       "      <td>regular</td>\n",
       "    </tr>\n",
       "  </tbody>\n",
       "</table>\n",
       "</div>"
      ],
      "text/plain": [
       "       id                                                url          name  \\\n",
       "0  869671  https://www.tvmaze.com/episodes/869671/westwor...  The Original   \n",
       "1  911201  https://www.tvmaze.com/episodes/911201/westwor...      Chestnut   \n",
       "\n",
       "   season  number                        _links_self_href  \\\n",
       "0       1       1  https://api.tvmaze.com/episodes/869671   \n",
       "1       1       2  https://api.tvmaze.com/episodes/911201   \n",
       "\n",
       "                    _links_show_href     airdate                   airstamp  \\\n",
       "0  https://api.tvmaze.com/shows/1371  2016-10-02  2016-10-03 01:00:00+00:00   \n",
       "1  https://api.tvmaze.com/shows/1371  2016-10-09  2016-10-10 01:00:00+00:00   \n",
       "\n",
       "       airtime                                       image_medium  \\\n",
       "0  09:00:00 PM  https://static.tvmaze.com/uploads/images/mediu...   \n",
       "1  09:00:00 PM  https://static.tvmaze.com/uploads/images/mediu...   \n",
       "\n",
       "                                      image_original  rating_average  runtime  \\\n",
       "0  https://static.tvmaze.com/uploads/images/origi...             8.0       68   \n",
       "1  https://static.tvmaze.com/uploads/images/origi...             7.7       60   \n",
       "\n",
       "                                             summary     type  \n",
       "0  A woman named Dolores is a free spirit in the ...  regular  \n",
       "1  Bernard suspects that someone is sabotaging th...  regular  "
      ]
     },
     "execution_count": 12,
     "metadata": {},
     "output_type": "execute_result"
    }
   ],
   "source": [
    "df.head(2)"
   ]
  },
  {
   "cell_type": "markdown",
   "id": "1a89e4fa",
   "metadata": {},
   "source": [
    "## 1. Get all the overall ratings for each season and using plots compare the ratings for all the seasons, like season 1 ratings, season 2, and so on."
   ]
  },
  {
   "cell_type": "code",
   "execution_count": 110,
   "id": "d0c2d60e",
   "metadata": {},
   "outputs": [
    {
     "data": {
      "text/html": [
       "<div>\n",
       "<style scoped>\n",
       "    .dataframe tbody tr th:only-of-type {\n",
       "        vertical-align: middle;\n",
       "    }\n",
       "\n",
       "    .dataframe tbody tr th {\n",
       "        vertical-align: top;\n",
       "    }\n",
       "\n",
       "    .dataframe thead th {\n",
       "        text-align: right;\n",
       "    }\n",
       "</style>\n",
       "<table border=\"1\" class=\"dataframe\">\n",
       "  <thead>\n",
       "    <tr style=\"text-align: right;\">\n",
       "      <th></th>\n",
       "      <th>season</th>\n",
       "      <th>rating_average</th>\n",
       "    </tr>\n",
       "  </thead>\n",
       "  <tbody>\n",
       "    <tr>\n",
       "      <th>0</th>\n",
       "      <td>1</td>\n",
       "      <td>8.0900</td>\n",
       "    </tr>\n",
       "    <tr>\n",
       "      <th>1</th>\n",
       "      <td>2</td>\n",
       "      <td>8.0000</td>\n",
       "    </tr>\n",
       "    <tr>\n",
       "      <th>2</th>\n",
       "      <td>3</td>\n",
       "      <td>7.7750</td>\n",
       "    </tr>\n",
       "    <tr>\n",
       "      <th>3</th>\n",
       "      <td>4</td>\n",
       "      <td>7.5375</td>\n",
       "    </tr>\n",
       "  </tbody>\n",
       "</table>\n",
       "</div>"
      ],
      "text/plain": [
       "   season  rating_average\n",
       "0       1          8.0900\n",
       "1       2          8.0000\n",
       "2       3          7.7750\n",
       "3       4          7.5375"
      ]
     },
     "execution_count": 110,
     "metadata": {},
     "output_type": "execute_result"
    }
   ],
   "source": [
    "df_1=df.groupby('season')['rating_average'].mean().reset_index()\n",
    "df_1"
   ]
  },
  {
   "cell_type": "code",
   "execution_count": 111,
   "id": "2754025e",
   "metadata": {},
   "outputs": [
    {
     "data": {
      "text/plain": [
       "<AxesSubplot:xlabel='season', ylabel='rating_average'>"
      ]
     },
     "execution_count": 111,
     "metadata": {},
     "output_type": "execute_result"
    },
    {
     "data": {
      "image/png": "[encoded data removed]",
      "text/plain": [
       "<Figure size 640x480 with 1 Axes>"
      ]
     },
     "metadata": {},
     "output_type": "display_data"
    }
   ],
   "source": [
    "sns.barplot(df['season'],df['rating_average'])"
   ]
  },
  {
   "cell_type": "markdown",
   "id": "9c947bc3",
   "metadata": {},
   "source": [
    "## 2. Get all the episode names, whose average rating is more than 8 for every season"
   ]
  },
  {
   "cell_type": "code",
   "execution_count": 30,
   "id": "63e9c4bb",
   "metadata": {},
   "outputs": [
    {
     "data": {
      "text/html": [
       "<div>\n",
       "<style scoped>\n",
       "    .dataframe tbody tr th:only-of-type {\n",
       "        vertical-align: middle;\n",
       "    }\n",
       "\n",
       "    .dataframe tbody tr th {\n",
       "        vertical-align: top;\n",
       "    }\n",
       "\n",
       "    .dataframe thead th {\n",
       "        text-align: right;\n",
       "    }\n",
       "</style>\n",
       "<table border=\"1\" class=\"dataframe\">\n",
       "  <thead>\n",
       "    <tr style=\"text-align: right;\">\n",
       "      <th></th>\n",
       "      <th>name</th>\n",
       "      <th>season</th>\n",
       "      <th>Episode Number</th>\n",
       "    </tr>\n",
       "  </thead>\n",
       "  <tbody>\n",
       "    <tr>\n",
       "      <th>6</th>\n",
       "      <td>Trompe L'Oeil</td>\n",
       "      <td>1</td>\n",
       "      <td>7</td>\n",
       "    </tr>\n",
       "    <tr>\n",
       "      <th>8</th>\n",
       "      <td>The Well-Tempered Clavier</td>\n",
       "      <td>1</td>\n",
       "      <td>9</td>\n",
       "    </tr>\n",
       "    <tr>\n",
       "      <th>9</th>\n",
       "      <td>The Bicameral Mind</td>\n",
       "      <td>1</td>\n",
       "      <td>10</td>\n",
       "    </tr>\n",
       "    <tr>\n",
       "      <th>17</th>\n",
       "      <td>Kiksuya</td>\n",
       "      <td>2</td>\n",
       "      <td>8</td>\n",
       "    </tr>\n",
       "    <tr>\n",
       "      <th>18</th>\n",
       "      <td>Vanishing Point</td>\n",
       "      <td>2</td>\n",
       "      <td>9</td>\n",
       "    </tr>\n",
       "    <tr>\n",
       "      <th>19</th>\n",
       "      <td>The Passenger</td>\n",
       "      <td>2</td>\n",
       "      <td>10</td>\n",
       "    </tr>\n",
       "  </tbody>\n",
       "</table>\n",
       "</div>"
      ],
      "text/plain": [
       "                         name  season  Episode Number\n",
       "6               Trompe L'Oeil       1               7\n",
       "8   The Well-Tempered Clavier       1               9\n",
       "9          The Bicameral Mind       1              10\n",
       "17                    Kiksuya       2               8\n",
       "18            Vanishing Point       2               9\n",
       "19              The Passenger       2              10"
      ]
     },
     "execution_count": 30,
     "metadata": {},
     "output_type": "execute_result"
    }
   ],
   "source": [
    "df[df['rating_average']>8][['name','season','number']].rename(columns={'number':'Episode Number'})"
   ]
  },
  {
   "cell_type": "markdown",
   "id": "5e790991",
   "metadata": {},
   "source": [
    "## 3. Get all the episode names that aired before May 2019"
   ]
  },
  {
   "cell_type": "code",
   "execution_count": 37,
   "id": "6bc50c64",
   "metadata": {},
   "outputs": [
    {
     "data": {
      "text/html": [
       "<div>\n",
       "<style scoped>\n",
       "    .dataframe tbody tr th:only-of-type {\n",
       "        vertical-align: middle;\n",
       "    }\n",
       "\n",
       "    .dataframe tbody tr th {\n",
       "        vertical-align: top;\n",
       "    }\n",
       "\n",
       "    .dataframe thead th {\n",
       "        text-align: right;\n",
       "    }\n",
       "</style>\n",
       "<table border=\"1\" class=\"dataframe\">\n",
       "  <thead>\n",
       "    <tr style=\"text-align: right;\">\n",
       "      <th></th>\n",
       "      <th>name</th>\n",
       "      <th>airdate</th>\n",
       "    </tr>\n",
       "  </thead>\n",
       "  <tbody>\n",
       "    <tr>\n",
       "      <th>0</th>\n",
       "      <td>The Original</td>\n",
       "      <td>2016-10-02</td>\n",
       "    </tr>\n",
       "    <tr>\n",
       "      <th>1</th>\n",
       "      <td>Chestnut</td>\n",
       "      <td>2016-10-09</td>\n",
       "    </tr>\n",
       "    <tr>\n",
       "      <th>2</th>\n",
       "      <td>The Stray</td>\n",
       "      <td>2016-10-16</td>\n",
       "    </tr>\n",
       "    <tr>\n",
       "      <th>3</th>\n",
       "      <td>Dissonance Theory</td>\n",
       "      <td>2016-10-23</td>\n",
       "    </tr>\n",
       "    <tr>\n",
       "      <th>4</th>\n",
       "      <td>Contrapasso</td>\n",
       "      <td>2016-10-30</td>\n",
       "    </tr>\n",
       "    <tr>\n",
       "      <th>5</th>\n",
       "      <td>The Adversary</td>\n",
       "      <td>2016-11-06</td>\n",
       "    </tr>\n",
       "    <tr>\n",
       "      <th>6</th>\n",
       "      <td>Trompe L'Oeil</td>\n",
       "      <td>2016-11-13</td>\n",
       "    </tr>\n",
       "    <tr>\n",
       "      <th>7</th>\n",
       "      <td>Trace Decay</td>\n",
       "      <td>2016-11-20</td>\n",
       "    </tr>\n",
       "    <tr>\n",
       "      <th>8</th>\n",
       "      <td>The Well-Tempered Clavier</td>\n",
       "      <td>2016-11-27</td>\n",
       "    </tr>\n",
       "    <tr>\n",
       "      <th>9</th>\n",
       "      <td>The Bicameral Mind</td>\n",
       "      <td>2016-12-04</td>\n",
       "    </tr>\n",
       "    <tr>\n",
       "      <th>10</th>\n",
       "      <td>Journey Into Night</td>\n",
       "      <td>2018-04-22</td>\n",
       "    </tr>\n",
       "    <tr>\n",
       "      <th>11</th>\n",
       "      <td>Reunion</td>\n",
       "      <td>2018-04-29</td>\n",
       "    </tr>\n",
       "    <tr>\n",
       "      <th>12</th>\n",
       "      <td>Virtù e Fortuna</td>\n",
       "      <td>2018-05-06</td>\n",
       "    </tr>\n",
       "    <tr>\n",
       "      <th>13</th>\n",
       "      <td>The Riddle of the Sphinx</td>\n",
       "      <td>2018-05-13</td>\n",
       "    </tr>\n",
       "    <tr>\n",
       "      <th>14</th>\n",
       "      <td>Akane No Mai</td>\n",
       "      <td>2018-05-20</td>\n",
       "    </tr>\n",
       "    <tr>\n",
       "      <th>15</th>\n",
       "      <td>Phase Space</td>\n",
       "      <td>2018-05-27</td>\n",
       "    </tr>\n",
       "    <tr>\n",
       "      <th>16</th>\n",
       "      <td>Les Écorchés</td>\n",
       "      <td>2018-06-03</td>\n",
       "    </tr>\n",
       "    <tr>\n",
       "      <th>17</th>\n",
       "      <td>Kiksuya</td>\n",
       "      <td>2018-06-10</td>\n",
       "    </tr>\n",
       "    <tr>\n",
       "      <th>18</th>\n",
       "      <td>Vanishing Point</td>\n",
       "      <td>2018-06-17</td>\n",
       "    </tr>\n",
       "    <tr>\n",
       "      <th>19</th>\n",
       "      <td>The Passenger</td>\n",
       "      <td>2018-06-24</td>\n",
       "    </tr>\n",
       "  </tbody>\n",
       "</table>\n",
       "</div>"
      ],
      "text/plain": [
       "                         name     airdate\n",
       "0                The Original  2016-10-02\n",
       "1                    Chestnut  2016-10-09\n",
       "2                   The Stray  2016-10-16\n",
       "3           Dissonance Theory  2016-10-23\n",
       "4                 Contrapasso  2016-10-30\n",
       "5               The Adversary  2016-11-06\n",
       "6               Trompe L'Oeil  2016-11-13\n",
       "7                 Trace Decay  2016-11-20\n",
       "8   The Well-Tempered Clavier  2016-11-27\n",
       "9          The Bicameral Mind  2016-12-04\n",
       "10         Journey Into Night  2018-04-22\n",
       "11                    Reunion  2018-04-29\n",
       "12            Virtù e Fortuna  2018-05-06\n",
       "13   The Riddle of the Sphinx  2018-05-13\n",
       "14               Akane No Mai  2018-05-20\n",
       "15                Phase Space  2018-05-27\n",
       "16               Les Écorchés  2018-06-03\n",
       "17                    Kiksuya  2018-06-10\n",
       "18            Vanishing Point  2018-06-17\n",
       "19              The Passenger  2018-06-24"
      ]
     },
     "execution_count": 37,
     "metadata": {},
     "output_type": "execute_result"
    }
   ],
   "source": [
    "df[df['airdate']<'2019-05-01'][[\"name\",\"airdate\"]]"
   ]
  },
  {
   "cell_type": "markdown",
   "id": "0e7846e7",
   "metadata": {},
   "source": [
    "## 4. Get the episode name from each season with the highest and lowest rating"
   ]
  },
  {
   "cell_type": "code",
   "execution_count": 48,
   "id": "125c20a8",
   "metadata": {},
   "outputs": [
    {
     "data": {
      "text/plain": [
       "season\n",
       "1    10\n",
       "2    10\n",
       "3     8\n",
       "4     8\n",
       "Name: season, dtype: int64"
      ]
     },
     "execution_count": 48,
     "metadata": {},
     "output_type": "execute_result"
    }
   ],
   "source": [
    "df.groupby('season')['season'].count()"
   ]
  },
  {
   "cell_type": "code",
   "execution_count": 53,
   "id": "92345a4c",
   "metadata": {},
   "outputs": [
    {
     "data": {
      "text/plain": [
       "[1, 2, 3, 4]"
      ]
     },
     "execution_count": 53,
     "metadata": {},
     "output_type": "execute_result"
    }
   ],
   "source": [
    "list(df['season'].unique())"
   ]
  },
  {
   "cell_type": "code",
   "execution_count": 70,
   "id": "cdb4be7f",
   "metadata": {},
   "outputs": [
    {
     "name": "stdout",
     "output_type": "stream",
     "text": [
      "Highest rating from season:  1\n",
      "                 name  rating_average\n",
      "9  The Bicameral Mind             8.7 \n",
      "\n",
      "lowest rating from season:  1\n",
      "        name  rating_average\n",
      "2  The Stray             7.6\n",
      "--------------------------------------------------\n",
      "Highest rating from season:  2\n",
      "       name  rating_average\n",
      "17  Kiksuya             8.7 \n",
      "\n",
      "lowest rating from season:  2\n",
      "            name  rating_average\n",
      "14  Akane No Mai             7.6\n",
      "--------------------------------------------------\n",
      "Highest rating from season:  3\n",
      "            name  rating_average\n",
      "20  Parce Domine             8.0 \n",
      "\n",
      "lowest rating from season:  3\n",
      "           name  rating_average\n",
      "26  Passed Pawn             7.5\n",
      "--------------------------------------------------\n",
      "Highest rating from season:  4\n",
      "        name  rating_average\n",
      "32  Zhuangzi             7.8 \n",
      "\n",
      "lowest rating from season:  4\n",
      "            name  rating_average\n",
      "28  The Auguries             7.1\n",
      "--------------------------------------------------\n"
     ]
    }
   ],
   "source": [
    "for i in list(df['season'].unique()):\n",
    "    print(\"Highest rating from season: \",i)\n",
    "    print(df[df['season'] ==i][[\"name\",\"rating_average\"]].sort_values(by=\"rating_average\",ascending=False).head(1),\"\\n\")\n",
    "    print(\"lowest rating from season: \",i)\n",
    "    print(df[df['season'] ==i][[\"name\",\"rating_average\"]].sort_values(by=\"rating_average\",ascending=False).tail(1))\n",
    "    print('-'*50)"
   ]
  },
  {
   "cell_type": "markdown",
   "id": "ed5dfa94",
   "metadata": {},
   "source": [
    "## 5. Get the summary for the most popular ( ratings ) episode in every season"
   ]
  },
  {
   "cell_type": "code",
   "execution_count": 109,
   "id": "8207586e",
   "metadata": {},
   "outputs": [
    {
     "name": "stdout",
     "output_type": "stream",
     "text": [
      "Highest rating summary from season:  1\n",
      "9    Delores finds out the truth about William's fa...\n",
      "Name: summary, dtype: object \n",
      "\n",
      "--------------------------------------------------\n",
      "Highest rating summary from season:  2\n",
      "17    Another of Westworld's Host revolutionaries is...\n",
      "Name: summary, dtype: object \n",
      "\n",
      "--------------------------------------------------\n",
      "Highest rating summary from season:  3\n",
      "20    If you're stuck in a loop, try walking in a st...\n",
      "Name: summary, dtype: object \n",
      "\n",
      "--------------------------------------------------\n",
      "Highest rating summary from season:  4\n",
      "32    God is bored.\n",
      "Name: summary, dtype: object \n",
      "\n",
      "--------------------------------------------------\n"
     ]
    }
   ],
   "source": [
    "for i in list(df['season'].unique()):\n",
    "    print(\"Highest rating summary from season: \",i)\n",
    "    print(df[df['season'] ==i][[\"summary\",\"rating_average\"]].sort_values(by=\"rating_average\",ascending=False)['summary'].head(1),\"\\n\")\n",
    "    print('-'*50)"
   ]
  },
  {
   "cell_type": "code",
   "execution_count": null,
   "id": "87009c6b",
   "metadata": {},
   "outputs": [],
   "source": []
  }
 ],
 "metadata": {
  "kernelspec": {
   "display_name": "Python 3 (ipykernel)",
   "language": "python",
   "name": "python3"
  },
  "language_info": {
   "codemirror_mode": {
    "name": "ipython",
    "version": 3
   },
   "file_extension": ".py",
   "mimetype": "text/x-python",
   "name": "python",
   "nbconvert_exporter": "python",
   "pygments_lexer": "ipython3",
   "version": "3.9.13"
  }
 },
 "nbformat": 4,
 "nbformat_minor": 5
}
